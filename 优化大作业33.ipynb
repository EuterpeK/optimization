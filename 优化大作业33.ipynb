{
 "cells": [
  {
   "cell_type": "code",
   "execution_count": 1,
   "metadata": {},
   "outputs": [],
   "source": [
    "import numpy as np\n",
    "import matplotlib.pyplot as plt"
   ]
  },
  {
   "cell_type": "code",
   "execution_count": 2,
   "metadata": {},
   "outputs": [
    {
     "name": "stdout",
     "output_type": "stream",
     "text": [
      "30\n"
     ]
    }
   ],
   "source": [
    "A=np.random.randint(1,10,(30,100))\n",
    "print(np.linalg.matrix_rank(A))\n",
    "x0=np.random.randint(1,10,(100,1))\n",
    "b=np.dot(A,x0)"
   ]
  },
  {
   "cell_type": "code",
   "execution_count": 3,
   "metadata": {},
   "outputs": [],
   "source": [
    "tot_iter=100\n",
    "epsilon=1e-10\n",
    "def f(x):\n",
    "    #caculate f(x)\n",
    "    func=np.sum(x*np.log(x))\n",
    "    return func\n",
    "\n",
    "def nable_f(x):\n",
    "    #caculate nable_f(x)\n",
    "    func=1+np.log(x)\n",
    "    return func\n",
    "\n",
    "def nable2_f(x):\n",
    "    func=np.eye(100)\n",
    "    for i in range(100):\n",
    "        func[i,i]=1/x[i]\n",
    "    return func\n",
    "\n",
    "\n",
    "def d_nt(x):\n",
    "    aa=np.zeros((130,130))\n",
    "    for i in range(100):\n",
    "        aa[i,i]=1/x[i]\n",
    "    aa[100:,0:100]=A\n",
    "    aa[0:100,100:]=np.transpose(A)\n",
    "    bb=np.zeros((130,1))\n",
    "    bb[0:100]=nable_f(x)\n",
    "    bb[100:]=np.dot(A,x)-b\n",
    "    bb=-bb\n",
    "    xx=np.linalg.solve(aa,bb)\n",
    "    d=xx[0:100,:]\n",
    "    return d\n",
    "\n",
    "def lam2(x):\n",
    "    dd=d_nt(x)\n",
    "    func=np.dot(np.dot(np.transpose(dd),nable2_f(x)),dd)\n",
    "    return func\n",
    "\n",
    "def judge(x,arr):\n",
    "    #save each error of epoch\n",
    "    #if it is less or equal epsilon, then return false, else return true\n",
    "    l=0.5*lam2(x)\n",
    "    arr.append(l)\n",
    "    if l > epsilon and len(arr)<tot_iter:\n",
    "        return True\n",
    "    return False\n",
    "\n",
    "def good_x(a,b):\n",
    "    x=x0\n",
    "    error=[]\n",
    "    k=0\n",
    "    while judge(x,error):\n",
    "        direction=d_nt(x)\n",
    "        t=1\n",
    "        while f(x+t*direction)> f(x)-a*t*lam2(x):\n",
    "            t=b*t\n",
    "        x=x+t*direction\n",
    "        \n",
    "        k=k+1\n",
    "    \n",
    "    return x,k,error"
   ]
  },
  {
   "cell_type": "code",
   "execution_count": 4,
   "metadata": {},
   "outputs": [
    {
     "name": "stdout",
     "output_type": "stream",
     "text": [
      "[[5.01837064]\n",
      " [5.46203464]\n",
      " [2.38862035]\n",
      " [6.11736489]\n",
      " [4.24650852]\n",
      " [3.89548446]\n",
      " [6.32135319]\n",
      " [3.69988616]\n",
      " [1.80941948]\n",
      " [4.78330169]\n",
      " [5.49005588]\n",
      " [9.18009557]\n",
      " [3.6896051 ]\n",
      " [4.97795143]\n",
      " [3.56173613]\n",
      " [4.66672926]\n",
      " [6.60690174]\n",
      " [6.92765106]\n",
      " [3.58106784]\n",
      " [4.23547375]\n",
      " [2.71968441]\n",
      " [3.90190455]\n",
      " [5.59315726]\n",
      " [6.65810138]\n",
      " [9.82414699]\n",
      " [5.88970746]\n",
      " [4.65392585]\n",
      " [3.30555735]\n",
      " [5.94394151]\n",
      " [5.68688328]\n",
      " [2.96621988]\n",
      " [5.18467327]\n",
      " [4.65363468]\n",
      " [3.51857693]\n",
      " [3.78755188]\n",
      " [1.78156548]\n",
      " [4.23354898]\n",
      " [8.14965725]\n",
      " [6.07479846]\n",
      " [6.31271667]\n",
      " [9.71722696]\n",
      " [4.4212465 ]\n",
      " [6.49981968]\n",
      " [4.99339475]\n",
      " [6.93922001]\n",
      " [3.31847858]\n",
      " [5.19239201]\n",
      " [3.49407496]\n",
      " [4.8342019 ]\n",
      " [4.46891383]\n",
      " [4.8965893 ]\n",
      " [4.69042471]\n",
      " [7.13014288]\n",
      " [2.07417081]\n",
      " [7.31561648]\n",
      " [3.93284029]\n",
      " [7.97280723]\n",
      " [4.35962798]\n",
      " [3.58056283]\n",
      " [4.60473973]\n",
      " [3.49918433]\n",
      " [5.58341909]\n",
      " [7.51506636]\n",
      " [2.78223116]\n",
      " [6.20670437]\n",
      " [4.1652926 ]\n",
      " [9.05275968]\n",
      " [5.476821  ]\n",
      " [2.76867054]\n",
      " [7.16827128]\n",
      " [3.97207343]\n",
      " [3.05420312]\n",
      " [4.54445571]\n",
      " [3.84440744]\n",
      " [3.41146011]\n",
      " [3.09242395]\n",
      " [4.97199911]\n",
      " [2.00941094]\n",
      " [6.22363887]\n",
      " [2.95183658]\n",
      " [2.34726689]\n",
      " [6.8243702 ]\n",
      " [6.6006228 ]\n",
      " [8.3697875 ]\n",
      " [5.96578121]\n",
      " [6.07211583]\n",
      " [8.0142985 ]\n",
      " [5.55079872]\n",
      " [5.51268791]\n",
      " [3.92739391]\n",
      " [4.6060932 ]\n",
      " [5.586593  ]\n",
      " [4.96431427]\n",
      " [2.20518689]\n",
      " [7.08616106]\n",
      " [2.98001036]\n",
      " [5.9500045 ]\n",
      " [6.38199503]\n",
      " [3.90698578]\n",
      " [1.65556659]]\n",
      "834.4004849961897\n"
     ]
    }
   ],
   "source": [
    "alpha=0.1\n",
    "beta=0.7\n",
    "x,k,error=good_x(alpha,beta)\n",
    "while len(error)<100:\n",
    "    error.append(error[-1])\n",
    "error=np.array(error).reshape(100)\n",
    "print(x)\n",
    "print(f(x))"
   ]
  },
  {
   "cell_type": "code",
   "execution_count": 5,
   "metadata": {},
   "outputs": [
    {
     "data": {
      "image/png": "[encoded data removed]",
      "text/plain": [
       "<Figure size 576x576 with 1 Axes>"
      ]
     },
     "metadata": {
      "needs_background": "light"
     },
     "output_type": "display_data"
    }
   ],
   "source": [
    "k=np.array([i+1 for i in range(100)])\n",
    "plt.rcParams['figure.figsize']=(8,8)\n",
    "plt.plot(k[0:20],error[0:20],label=\"$\\alpha=0.1,\\beta=0.7$\")\n",
    "plt.xlabel(\"迭代次数\",fontproperties='simhei')\n",
    "plt.ylabel(\"$f(x^k)-p^*$\")\n",
    "plt.title(\"标准Newton方法\",fontproperties='simhei') \n",
    "plt.yscale('log')\n",
    "plt.show()"
   ]
  },
  {
   "cell_type": "code",
   "execution_count": null,
   "metadata": {},
   "outputs": [],
   "source": []
  }
 ],
 "metadata": {
  "kernelspec": {
   "display_name": "Python 3",
   "language": "python",
   "name": "python3"
  },
  "language_info": {
   "codemirror_mode": {
    "name": "ipython",
    "version": 3
   },
   "file_extension": ".py",
   "mimetype": "text/x-python",
   "name": "python",
   "nbconvert_exporter": "python",
   "pygments_lexer": "ipython3",
   "version": "3.6.2"
  }
 },
 "nbformat": 4,
 "nbformat_minor": 2
}
