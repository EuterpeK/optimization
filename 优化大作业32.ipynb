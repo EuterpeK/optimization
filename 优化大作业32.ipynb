{
 "cells": [
  {
   "cell_type": "code",
   "execution_count": 1,
   "metadata": {},
   "outputs": [],
   "source": [
    "import numpy as np\n",
    "import matplotlib.pyplot as plt"
   ]
  },
  {
   "cell_type": "code",
   "execution_count": 2,
   "metadata": {},
   "outputs": [
    {
     "name": "stdout",
     "output_type": "stream",
     "text": [
      "30\n"
     ]
    }
   ],
   "source": [
    "A=np.random.randint(1,10,(30,100))\n",
    "print(np.linalg.matrix_rank(A))\n",
    "x0=np.random.randint(1,10,(100,1))\n",
    "b=np.dot(A,x0)"
   ]
  },
  {
   "cell_type": "code",
   "execution_count": 47,
   "metadata": {},
   "outputs": [],
   "source": [
    "xx=np.array([1 for i in range(100)]).reshape(100,1)\n",
    "v0=np.array([0 for i in range(30)]).reshape(30,1)\n",
    "tot_iter=100\n",
    "epsilon=1e-10\n",
    "def f(x):\n",
    "    #caculate f(x)\n",
    "    func=np.sum(x*np.log(x))\n",
    "    return func\n",
    "\n",
    "def nable_f(x):\n",
    "    #caculate nable_f(x)\n",
    "    func=1+np.log(x)\n",
    "    return func\n",
    "\n",
    "def nable2_f(x):\n",
    "    func=np.eye(100)\n",
    "    for i in range(100):\n",
    "        func[i,i]=1/x[i]\n",
    "    return func\n",
    "\n",
    "\n",
    "def d_nt(x,v):\n",
    "    aa=np.zeros((130,130))\n",
    "    for i in range(100):\n",
    "        aa[i,i]=1/x[i]\n",
    "    aa[100:,0:100]=A\n",
    "    aa[0:100,100:]=np.transpose(A)\n",
    "    bb=np.zeros((130,1))\n",
    "    bb[0:100]=nable_f(x)+np.dot(np.transpose(A),v)\n",
    "    bb[100:]=np.dot(A,x)-b\n",
    "    bb=-bb\n",
    "    xx=np.linalg.solve(aa,bb)\n",
    "    d=xx[0:100]\n",
    "    v=xx[100:]\n",
    "    return d,v\n",
    "\n",
    "def dual(x,v):\n",
    "    r=np.zeros((130,1))\n",
    "    r[0:100]=nable_f(x)+np.dot(np.transpose(A),v)\n",
    "    r[100:]=np.dot(A,x)-b\n",
    "    func=np.sqrt(np.dot(np.transpose(r),r))\n",
    "    return func\n",
    "\n",
    "def judge(x,v,arr):\n",
    "    #save each error of epoch\n",
    "    #if it is less or equal epsilon, then return false, else return true\n",
    "    l=dual(x,v)\n",
    "    arr.append(l)\n",
    "    if l > epsilon and len(arr)<tot_iter:\n",
    "        return True\n",
    "    return False\n",
    "\n",
    "def good_x(a,b):\n",
    "    x=xx\n",
    "    v=v0\n",
    "    error=[]\n",
    "    k=0\n",
    "    while judge(x,v,error):\n",
    "        dx,dv=d_nt(x,v)\n",
    "        t=1\n",
    "        xk=x+t*dx\n",
    "        vk=v+t*dv\n",
    "        while dual(xk,vk) > (1-a*t)*dual(x,v):\n",
    "            t=b*t\n",
    "        x=xk\n",
    "        v=vk\n",
    "        k=k+1\n",
    "    \n",
    "    return x,k,error"
   ]
  },
  {
   "cell_type": "code",
   "execution_count": 48,
   "metadata": {},
   "outputs": [
    {
     "name": "stdout",
     "output_type": "stream",
     "text": [
      "698.3110258110688\n"
     ]
    }
   ],
   "source": [
    "alpha=0.1\n",
    "beta=0.7\n",
    "x,k,error=good_x(alpha,beta)\n",
    "while len(error)<100:\n",
    "    error.append(error[-1])\n",
    "error=np.array(error).reshape(100)\n",
    "print(f(x))"
   ]
  },
  {
   "cell_type": "code",
   "execution_count": 49,
   "metadata": {},
   "outputs": [
    {
     "data": {
      "image/png": "[encoded data removed]",
      "text/plain": [
       "<Figure size 576x576 with 1 Axes>"
      ]
     },
     "metadata": {
      "needs_background": "light"
     },
     "output_type": "display_data"
    }
   ],
   "source": [
    "k=np.array([i+1 for i in range(100)])\n",
    "plt.rcParams['figure.figsize']=(8,8)\n",
    "plt.plot(k[0:20],error[0:20],label=\"$\\alpha=0.1,\\beta=0.7$\")\n",
    "plt.xlabel(\"迭代次数\",fontproperties='simhei')\n",
    "plt.ylabel(\"$f(x^k)-p^*$\")\n",
    "plt.title(\"初始不可行Newton方法\",fontproperties='simhei') \n",
    "plt.yscale('log')\n",
    "plt.show()"
   ]
  },
  {
   "cell_type": "code",
   "execution_count": null,
   "metadata": {},
   "outputs": [],
   "source": []
  }
 ],
 "metadata": {
  "kernelspec": {
   "display_name": "Python 3",
   "language": "python",
   "name": "python3"
  },
  "language_info": {
   "codemirror_mode": {
    "name": "ipython",
    "version": 3
   },
   "file_extension": ".py",
   "mimetype": "text/x-python",
   "name": "python",
   "nbconvert_exporter": "python",
   "pygments_lexer": "ipython3",
   "version": "3.6.2"
  }
 },
 "nbformat": 4,
 "nbformat_minor": 2
}
